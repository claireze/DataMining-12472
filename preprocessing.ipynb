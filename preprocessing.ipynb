{
 "cells": [
  {
   "cell_type": "code",
   "execution_count": 1,
   "metadata": {},
   "outputs": [],
   "source": [
    "import numpy as np\n",
    "import matplotlib.pyplot as plt\n",
    "import pandas as pd"
   ]
  },
  {
   "cell_type": "markdown",
   "metadata": {},
   "source": [
    "Numpy merupakan library python digunakan untuk komputasi matriks\n",
    "Matplotlib merupakan library python untuk presentasi data berupa grafik atau plot"
   ]
  },
  {
   "cell_type": "code",
   "execution_count": 2,
   "metadata": {},
   "outputs": [],
   "source": [
    "dataset = pd.read_csv('data.csv')\n",
    "x = dataset.iloc[:, :-1].values\n",
    "y = dataset.iloc[:, -1].values"
   ]
  },
  {
   "cell_type": "code",
   "execution_count": 3,
   "metadata": {},
   "outputs": [
    {
     "name": "stdout",
     "output_type": "stream",
     "text": [
      "[['Perancis' 44.0 72000.0]\n",
      " ['Spanyol' 27.0 48000.0]\n",
      " ['Jerman' 30.0 54000.0]\n",
      " ['Spanyol' 38.0 61000.0]\n",
      " ['Jerman' 40.0 nan]\n",
      " ['Perancis' 35.0 58000.0]\n",
      " ['Spanyol' nan 52000.0]\n",
      " ['Perancis' 48.0 79000.0]\n",
      " ['Jerman' 50.0 83000.0]\n",
      " ['Perancis' 37.0 67000.0]]\n"
     ]
    }
   ],
   "source": [
    "print(x)"
   ]
  },
  {
   "cell_type": "code",
   "execution_count": 4,
   "metadata": {},
   "outputs": [],
   "source": [
    "from sklearn.impute import SimpleImputer\n",
    "imputer = SimpleImputer(missing_values=np.nan, strategy='mean')\n",
    "imputer.fit(x[:, 1:3])\n",
    "x[:, 1:3] = imputer.transform(x[:, 1:3])"
   ]
  },
  {
   "cell_type": "markdown",
   "metadata": {},
   "source": [
    "impute dilakukan untuk mengisi data yang kosong (missing_values), dengan strategy mean atau rata-rata"
   ]
  },
  {
   "cell_type": "code",
   "execution_count": 5,
   "metadata": {},
   "outputs": [
    {
     "name": "stdout",
     "output_type": "stream",
     "text": [
      "[['Perancis' 44.0 72000.0]\n",
      " ['Spanyol' 27.0 48000.0]\n",
      " ['Jerman' 30.0 54000.0]\n",
      " ['Spanyol' 38.0 61000.0]\n",
      " ['Jerman' 40.0 63777.77777777778]\n",
      " ['Perancis' 35.0 58000.0]\n",
      " ['Spanyol' 38.77777777777778 52000.0]\n",
      " ['Perancis' 48.0 79000.0]\n",
      " ['Jerman' 50.0 83000.0]\n",
      " ['Perancis' 37.0 67000.0]]\n"
     ]
    }
   ],
   "source": [
    "print(x)"
   ]
  },
  {
   "cell_type": "code",
   "execution_count": 17,
   "metadata": {},
   "outputs": [],
   "source": [
    "from sklearn.compose import ColumnTransformer\n",
    "from sklearn.preprocessing import OneHotEncoder\n",
    "ct = ColumnTransformer(transformers=[('encoder', OneHotEncoder(), [0])], remainder='passthrough')\n",
    "x = np.array(ct.fit_transform(x))"
   ]
  },
  {
   "cell_type": "markdown",
   "metadata": {},
   "source": [
    "Karena ada data non nomerik atau nominal, maka data harus diencode menggunakan OneHotEncoder"
   ]
  },
  {
   "cell_type": "code",
   "execution_count": 22,
   "metadata": {},
   "outputs": [
    {
     "name": "stdout",
     "output_type": "stream",
     "text": [
      "[[0.0 1.0 0.0 1.0 0.0 44.0 72000.0]\n",
      " [0.0 1.0 0.0 0.0 1.0 27.0 48000.0]\n",
      " [1.0 0.0 1.0 0.0 0.0 30.0 54000.0]\n",
      " [0.0 1.0 0.0 0.0 1.0 38.0 61000.0]\n",
      " [1.0 0.0 1.0 0.0 0.0 40.0 63777.77777777778]\n",
      " [0.0 1.0 0.0 1.0 0.0 35.0 58000.0]\n",
      " [0.0 1.0 0.0 0.0 1.0 38.77777777777778 52000.0]\n",
      " [0.0 1.0 0.0 1.0 0.0 48.0 79000.0]\n",
      " [1.0 0.0 1.0 0.0 0.0 50.0 83000.0]\n",
      " [0.0 1.0 0.0 1.0 0.0 37.0 67000.0]]\n"
     ]
    }
   ],
   "source": [
    "print(x)"
   ]
  },
  {
   "cell_type": "code",
   "execution_count": 18,
   "metadata": {},
   "outputs": [],
   "source": [
    "from sklearn.preprocessing import LabelEncoder\n",
    "le = LabelEncoder()\n",
    "y = le.fit_transform(y)"
   ]
  },
  {
   "cell_type": "code",
   "execution_count": 19,
   "metadata": {},
   "outputs": [
    {
     "name": "stdout",
     "output_type": "stream",
     "text": [
      "[0 1 0 0 1 1 0 1 0 1]\n"
     ]
    }
   ],
   "source": [
    "print(y)"
   ]
  },
  {
   "cell_type": "code",
   "execution_count": 23,
   "metadata": {},
   "outputs": [],
   "source": [
    "from sklearn.model_selection import train_test_split\n",
    "x_train, x_test, y_train, y_test = train_test_split(x, y, test_size=0.2, random_state=1)\n"
   ]
  },
  {
   "cell_type": "markdown",
   "metadata": {},
   "source": [
    "membagi training dan testing menggunakan train_test_split"
   ]
  },
  {
   "cell_type": "code",
   "execution_count": 25,
   "metadata": {},
   "outputs": [
    {
     "name": "stdout",
     "output_type": "stream",
     "text": [
      "[[0.0 1.0 0.0 0.0 1.0 38.77777777777778 52000.0]\n",
      " [1.0 0.0 1.0 0.0 0.0 40.0 63777.77777777778]\n",
      " [0.0 1.0 0.0 1.0 0.0 44.0 72000.0]\n",
      " [0.0 1.0 0.0 0.0 1.0 38.0 61000.0]\n",
      " [0.0 1.0 0.0 0.0 1.0 27.0 48000.0]\n",
      " [0.0 1.0 0.0 1.0 0.0 48.0 79000.0]\n",
      " [1.0 0.0 1.0 0.0 0.0 50.0 83000.0]\n",
      " [0.0 1.0 0.0 1.0 0.0 35.0 58000.0]]\n"
     ]
    }
   ],
   "source": [
    "print(x_train)"
   ]
  },
  {
   "cell_type": "code",
   "execution_count": 27,
   "metadata": {},
   "outputs": [
    {
     "name": "stdout",
     "output_type": "stream",
     "text": [
      "[[1.0 0.0 1.0 0.0 0.0 30.0 54000.0]\n",
      " [0.0 1.0 0.0 1.0 0.0 37.0 67000.0]]\n"
     ]
    }
   ],
   "source": [
    "print(x_test)"
   ]
  },
  {
   "cell_type": "code",
   "execution_count": 26,
   "metadata": {},
   "outputs": [
    {
     "name": "stdout",
     "output_type": "stream",
     "text": [
      "[0 1 0 0 1 1 0 1]\n"
     ]
    }
   ],
   "source": [
    "print(y_train)"
   ]
  },
  {
   "cell_type": "code",
   "execution_count": 28,
   "metadata": {},
   "outputs": [
    {
     "name": "stdout",
     "output_type": "stream",
     "text": [
      "[0 1]\n"
     ]
    }
   ],
   "source": [
    "print(y_test)"
   ]
  },
  {
   "cell_type": "code",
   "execution_count": 29,
   "metadata": {},
   "outputs": [],
   "source": [
    "from sklearn.preprocessing import StandardScaler\n",
    "sc = StandardScaler()\n",
    "x_train[:, 3:] = sc.fit_transform(x_train[:, 3:])\n",
    "x_test[:, 3:] = sc.transform(x_test[:, 3:])"
   ]
  },
  {
   "cell_type": "code",
   "execution_count": 30,
   "metadata": {},
   "outputs": [
    {
     "name": "stdout",
     "output_type": "stream",
     "text": [
      "[[0.0 1.0 0.0 -0.7745966692414834 1.2909944487358056 -0.19159184384578545\n",
      "  -1.0781259408412425]\n",
      " [1.0 0.0 1.0 -0.7745966692414834 -0.7745966692414834\n",
      "  -0.014117293757057777 -0.07013167641635372]\n",
      " [0.0 1.0 0.0 1.2909944487358056 -0.7745966692414834 0.566708506533324\n",
      "  0.633562432710455]\n",
      " [0.0 1.0 0.0 -0.7745966692414834 1.2909944487358056 -0.30453019390224867\n",
      "  -0.30786617274297867]\n",
      " [0.0 1.0 0.0 -0.7745966692414834 1.2909944487358056 -1.9018011447007988\n",
      "  -1.420463615551582]\n",
      " [0.0 1.0 0.0 1.2909944487358056 -0.7745966692414834 1.1475343068237058\n",
      "  1.232653363453549]\n",
      " [1.0 0.0 1.0 -0.7745966692414834 -0.7745966692414834 1.4379472069688968\n",
      "  1.5749910381638885]\n",
      " [0.0 1.0 0.0 1.2909944487358056 -0.7745966692414834 -0.7401495441200351\n",
      "  -0.5646194287757332]]\n"
     ]
    }
   ],
   "source": [
    "print(x_train)"
   ]
  },
  {
   "cell_type": "code",
   "execution_count": 31,
   "metadata": {},
   "outputs": [
    {
     "name": "stdout",
     "output_type": "stream",
     "text": [
      "[[1.0 0.0 1.0 -0.7745966692414834 -0.7745966692414834 -1.4661817944830124\n",
      "  -0.9069571034860727]\n",
      " [0.0 1.0 0.0 1.2909944487358056 -0.7745966692414834 -0.44973664397484414\n",
      "  0.2056403393225306]]\n"
     ]
    }
   ],
   "source": [
    "print(x_test)"
   ]
  }
 ],
 "metadata": {
  "interpreter": {
   "hash": "0222e8b6b4364106d32534628a50d27346996349e63f0ae1dba7b159bd0311a5"
  },
  "kernelspec": {
   "display_name": "Python 3.8.5 32-bit",
   "language": "python",
   "name": "python3"
  },
  "language_info": {
   "codemirror_mode": {
    "name": "ipython",
    "version": 3
   },
   "file_extension": ".py",
   "mimetype": "text/x-python",
   "name": "python",
   "nbconvert_exporter": "python",
   "pygments_lexer": "ipython3",
   "version": "3.8.5"
  },
  "orig_nbformat": 4
 },
 "nbformat": 4,
 "nbformat_minor": 2
}
